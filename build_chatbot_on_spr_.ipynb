{
 "cells": [
  {
   "cell_type": "markdown",
   "metadata": {},
   "source": [
    "NeuralChat is a customizable chat framework designed to create user own chatbot within few minutes on multiple architectures. This notebook is used to demonstrate how to build a talking chatbot on 4th Generation of Intel® Xeon® Scalable Processors Sapphire Rapids.\n",
    "\n",
    "The 4th Generation of Intel® Xeon® Scalable processor provides two instruction sets viz. AMX_BF16 and AMX_INT8 which provides acceleration for bfloat16 and int8 operations respectively."
   ]
  },
  {
   "cell_type": "markdown",
   "metadata": {},
   "source": [
    "# Prepare Environment"
   ]
  },
  {
   "cell_type": "markdown",
   "metadata": {},
   "source": [
    "Install intel extension for transformers:"
   ]
  },
  {
   "cell_type": "code",
   "execution_count": null,
   "metadata": {},
   "outputs": [],
   "source": [
    "!pip install intel-extension-for-transformers"
   ]
  },
  {
   "cell_type": "markdown",
   "metadata": {},
   "source": [
    "Install Requirements:"
   ]
  },
  {
   "cell_type": "code",
   "execution_count": null,
   "metadata": {},
   "outputs": [],
   "source": [
    "!git clone https://github.com/intel/intel-extension-for-transformers.git"
   ]
  },
  {
   "cell_type": "code",
   "execution_count": null,
   "metadata": {},
   "outputs": [],
   "source": [
    "%cd ./intel-extension-for-transformers/intel_extension_for_transformers/neural_chat/\n",
    "!pip install -r requirements_cpu.txt\n",
    "%cd ../../../"
   ]
  },
  {
   "cell_type": "markdown",
   "metadata": {},
   "source": [
    "# Build your chatbot 💻"
   ]
  },
  {
   "cell_type": "markdown",
   "metadata": {},
   "source": [
    "## Text Chat"
   ]
  },
  {
   "cell_type": "markdown",
   "metadata": {},
   "source": [
    "Giving NeuralChat the textual instruction, it will respond with the textual response."
   ]
  },
  {
   "cell_type": "code",
   "execution_count": 1,
   "metadata": {},
   "outputs": [
    {
     "name": "stderr",
     "output_type": "stream",
     "text": [
      "/home/u5162874a1f42c4255ebf81394259a26/.conda/envs/itrex-1/lib/python3.10/site-packages/transformers/deepspeed.py:23: FutureWarning: transformers.deepspeed module is deprecated and will be removed in a future version. Please import deepspeed modules directly from transformers.integrations\n",
      "  warnings.warn(\n",
      "/home/u5162874a1f42c4255ebf81394259a26/.conda/envs/itrex-1/lib/python3.10/site-packages/huggingface_hub/file_download.py:1132: FutureWarning: `resume_download` is deprecated and will be removed in version 1.0.0. Downloads always resume when possible. If you want to force a new download, use `force_download=True`.\n",
      "  warnings.warn(\n"
     ]
    },
    {
     "name": "stdout",
     "output_type": "stream",
     "text": [
      "Loading model Intel/neural-chat-7b-v3-1\n"
     ]
    },
    {
     "data": {
      "application/vnd.jupyter.widget-view+json": {
       "model_id": "f5a184a739804af3ad59867e199f5589",
       "version_major": 2,
       "version_minor": 0
      },
      "text/plain": [
       "Loading checkpoint shards:   0%|          | 0/2 [00:00<?, ?it/s]"
      ]
     },
     "metadata": {},
     "output_type": "display_data"
    },
    {
     "name": "stdout",
     "output_type": "stream",
     "text": [
      "The Intel Xeon Scalable Processors represent a family of high-performance central processing units (CPUs) designed for data centers, cloud computing, and other demanding workloads. These processors offer advanced features such as increased core counts, enhanced memory capabilities, and improved power efficiency. They are built on Intel's latest microarchitecture, which enables them to deliver exceptional performance in various applications like virtualization, big data analytics, artificial intelligence, and high-performance computing. By optimizing their design for scalability, these processors can adapt to diverse environments and evolving needs, making them a popular choice among businesses and organizations seeking reliable and efficient solutions for their complex tasks. \n",
      "\n",
      "In simpler terms, imagine Intel Xeon Scalable Processors as powerful engines inside computers that help run many different tasks at once, like managing huge amounts of data or running complicated programs. They are specifically designed for large-scale operations and can handle a wide range of responsibilities efficiently. \n",
      "\n",
      "These processors have been developed with the goal of being flexible enough to meet the ever-changing demands of modern technology. They can easily scale up or down depending on the requirements, ensuring optimal performance and energy consumption.\n"
     ]
    }
   ],
   "source": [
    "# BF16 Optimization\n",
    "from intel_extension_for_transformers.neural_chat import build_chatbot, PipelineConfig\n",
    "from intel_extension_for_transformers.transformers import MixedPrecisionConfig\n",
    "config = PipelineConfig(optimization_config=MixedPrecisionConfig())\n",
    "chatbot = build_chatbot(config)\n",
    "response = chatbot.predict(query=\"Tell me about Intel Xeon Scalable Processors.\")\n",
    "print(response)\n"
   ]
  },
  {
   "cell_type": "markdown",
   "metadata": {},
   "source": [
    "## Text Chat With Retrieval Plugin"
   ]
  },
  {
   "cell_type": "markdown",
   "metadata": {},
   "source": [
    "User could also leverage NeuralChat Retrieval plugin to do domain specific chat by feding with some documents like below:"
   ]
  },
  {
   "cell_type": "code",
   "execution_count": null,
   "metadata": {},
   "outputs": [],
   "source": [
    "%cd ./intel-extension-for-transformers/intel_extension_for_transformers/neural_chat/pipeline/plugins/retrieval/\n",
    "!pip install -r requirements.txt\n",
    "%cd ../../../../../../"
   ]
  },
  {
   "cell_type": "code",
   "execution_count": 2,
   "metadata": {},
   "outputs": [
    {
     "name": "stdout",
     "output_type": "stream",
     "text": [
      "Intel, formally known as Intel Corporation, is an American multinational corporation and technology company focused on designing and manufacturing advanced semiconductor chips for various applications. Founded in 1968 by Gordon Moore and Robert Noyce, it has grown into one of the world's leading innovators in the field of microprocessors, graphics cards, network interface controllers, and other essential components for computers and electronic devices.\n",
      "\n",
      "Intel's mission is to create breakthrough technologies that enrich the lives of people everywhere. They strive to deliver innovative solutions through collaboration with partners, customers, and employees. The company's core values include respecting individuals, fostering innovation, and striving for excellence.\n",
      "\n",
      "Throughout its history, Intel has been responsible for numerous groundbreaking advancements in computing technology. Some notable achievements include the development of the first single-chip microprocessor (the 4004), the introduction of the x86 architecture, which became the standard for personal computers, and the creation of the Pentium processor family. Additionally, Intel has played a significant role in the growth of the internet, mobile communications, and artificial intelligence.\n"
     ]
    }
   ],
   "source": [
    "response = chatbot.predict(query=\"Tell me about Intel\")\n",
    "print(response)"
   ]
  },
  {
   "cell_type": "code",
   "execution_count": 3,
   "metadata": {},
   "outputs": [
    {
     "name": "stdout",
     "output_type": "stream",
     "text": [
      "Processors, also known as CPUs (Central Processing Units), are the brains of computers. They are responsible for executing instructions and managing various tasks within a system. These tiny yet powerful components work in conjunction with other hardware like RAM (Random Access Memory) and storage devices to ensure smooth operation and efficient performance.\n",
      "\n",
      "Over time, processors have evolved significantly, from simple single-core designs to advanced multi-core architectures capable of handling multiple tasks simultaneously. This has led to increased processing power and improved overall system efficiency. Modern processors often come equipped with additional features such as integrated graphics, virtualization support, and enhanced security measures.\n",
      "\n",
      "When choosing a processor for your computer or device, it's essential to consider factors like clock speed, number of cores, cache size, and energy efficiency. These specifications can greatly impact the performance of your system, especially when running demanding applications or multitasking. It is also crucial to select a compatible processor for your motherboard and operating system to ensure seamless integration and optimal functionality.\n",
      "\n",
      "In summary, processors play a vital role in the functioning of modern computing systems. Their continuous evolution has enabled us to enjoy faster, more efficient, and secure digital experiences.\n"
     ]
    }
   ],
   "source": [
    "response = chatbot.predict(query=\"Tell me about Processors\")\n",
    "print(response)"
   ]
  },
  {
   "cell_type": "code",
   "execution_count": 4,
   "metadata": {},
   "outputs": [
    {
     "name": "stdout",
     "output_type": "stream",
     "text": [
      "Generative AI refers to a branch of artificial intelligence (AI) focused on creating new content or data based on existing inputs. It involves various techniques such as deep learning, machine learning, and natural language processing to generate original outputs in different forms like text, images, audio, or even videos.\n",
      "\n",
      "The primary goal of generative AI is to mimic human creativity and intelligence by analyzing vast amounts of data and using algorithms to produce novel results. This technology has numerous applications across industries, including art, entertainment, healthcare, finance, and education. For instance, it can be used for generating realistic images, writing creative texts, composing music, or even assisting with medical diagnosis.\n",
      "\n",
      "However, it's essential to note that while generative AI holds great potential, it still faces challenges in terms of accuracy, bias, and ethical concerns. As this technology continues to evolve, it's crucial to ensure responsible development and implementation to maximize its benefits while minimizing any negative impacts. \n",
      "\n",
      "In the end, generative AI represents a powerful tool that can revolutionize various aspects of our lives, but it's important to approach it with caution and a sense of responsibility.\n"
     ]
    }
   ],
   "source": [
    "response = chatbot.predict(query=\"Tell me about Generative AI\")\n",
    "print(response)"
   ]
  },
  {
   "cell_type": "code",
   "execution_count": 5,
   "metadata": {},
   "outputs": [
    {
     "name": "stdout",
     "output_type": "stream",
     "text": [
      "Once upon a time, in a world filled with love and laughter, there lived a diverse community of pet animals. Each species had its own unique traits and characteristics, making them special in their own ways.\n",
      "\n",
      "Dogs were known for their loyalty and companionship, always wagging their tails and eagerly awaiting their human's return. Cats, on the other hand, were independent creatures who enjoyed their solitude but still cherished the warmth of a loving home. Birds sang beautiful melodies, filling the air with joyful harmonies. Rabbits hopped around with grace, bringing a sense of playfulness wherever they went.\n",
      "\n",
      "Horses galloped across vast fields, embodying strength and power. Hamsters were tiny bundles of energy, running on their wheels day and night. Guinea pigs squeaked happily as they explored their surroundings. Fish swam peacefully through the depths of aquariums, creating a serene atmosphere.\n",
      "\n",
      "In this magical land, pets brought happiness and comfort to their human families. They taught valuable lessons about responsibility, unconditional love, and the importance of nurturing relationships.\n"
     ]
    }
   ],
   "source": [
    "response = chatbot.predict(query=\"Tell me about Pet animals\")\n",
    "print(response)"
   ]
  },
  {
   "cell_type": "code",
   "execution_count": 6,
   "metadata": {},
   "outputs": [
    {
     "name": "stdout",
     "output_type": "stream",
     "text": [
      "Tesla, the company founded by Elon Musk, is known for its innovative approach towards sustainable transportation and clean energy solutions. It primarily focuses on designing and manufacturing electric vehicles (EVs) such as cars, trucks, and SUVs. Their mission is to accelerate the world's transition to sustainable energy through the production of electric vehicles and solar panels.\n",
      "\n",
      "Tesla has made significant strides in the automotive industry with their groundbreaking models like the Roadster, Model S, Model X, and Model 3. These vehicles have received praise for their impressive performance, safety features, and advanced technology. The company has also expanded into other areas, including energy storage systems, solar roof tiles, and home battery products.\n",
      "\n",
      "Elon Musk, the CEO of Tesla, is a visionary entrepreneur who aims to revolutionize various industries, not only transportation but also renewable energy and space exploration. His ambitious goals include launching a fleet of fully autonomous electric vehicles and establishing a human colony on Mars.\n",
      "\n",
      "In summary, Tesla is a forward-thinking company dedicated to promoting sustainable living and reducing carbon emissions through its cutting-edge EVs and clean energy solutions.\n"
     ]
    }
   ],
   "source": [
    "response = chatbot.predict(query=\"Tell me about Tesla\")\n",
    "print(response)"
   ]
  }
 ],
 "metadata": {
  "kernelspec": {
   "display_name": "neural-chat",
   "language": "python",
   "name": "neural-chat"
  },
  "language_info": {
   "codemirror_mode": {
    "name": "ipython",
    "version": 3
   },
   "file_extension": ".py",
   "mimetype": "text/x-python",
   "name": "python",
   "nbconvert_exporter": "python",
   "pygments_lexer": "ipython3",
   "version": "3.10.14"
  }
 },
 "nbformat": 4,
 "nbformat_minor": 4
}
